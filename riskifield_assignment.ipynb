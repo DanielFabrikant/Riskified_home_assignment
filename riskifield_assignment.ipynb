{
  "nbformat": 4,
  "nbformat_minor": 0,
  "metadata": {
    "colab": {
      "name": "Untitled0.ipynb",
      "provenance": [],
      "collapsed_sections": [],
      "toc_visible": true,
      "authorship_tag": "ABX9TyMqECWenQjQ2m4xOuOWE3OJ",
      "include_colab_link": true
    },
    "kernelspec": {
      "name": "python3",
      "display_name": "Python 3"
    },
    "language_info": {
      "name": "python"
    }
  },
  "cells": [
    {
      "cell_type": "markdown",
      "metadata": {
        "id": "view-in-github",
        "colab_type": "text"
      },
      "source": [
        "<a href=\"https://colab.research.google.com/github/DanielFabrikant/Riskified_home_assignment/blob/main/riskifield_assignment.ipynb\" target=\"_parent\"><img src=\"https://colab.research.google.com/assets/colab-badge.svg\" alt=\"Open In Colab\"/></a>"
      ]
    },
    {
      "cell_type": "markdown",
      "metadata": {
        "id": "03fMbpOs2Kg4"
      },
      "source": [
        "**Data Analyst home assignment- Riskified**"
      ]
    },
    {
      "cell_type": "markdown",
      "metadata": {
        "id": "jETqKAmF6QXl"
      },
      "source": [
        "**Daniel Fabrikant**"
      ]
    },
    {
      "cell_type": "code",
      "metadata": {
        "colab": {
          "base_uri": "https://localhost:8080/",
          "height": 226
        },
        "id": "HYVpv1jD03YO",
        "outputId": "69c1a809-42c4-488e-910d-ea2f62956ff5"
      },
      "source": [
        "import pandas as pd\n",
        "import matplotlib.pyplot as plt\n",
        "\n",
        "df = pd.read_csv(\"https://raw.githubusercontent.com/DanielFabrikant/Riskified_home_assignment/main/new_dataset.csv\")\n",
        "df.head()"
      ],
      "execution_count": 94,
      "outputs": [
        {
          "output_type": "execute_result",
          "data": {
            "text/html": [
              "<div>\n",
              "<style scoped>\n",
              "    .dataframe tbody tr th:only-of-type {\n",
              "        vertical-align: middle;\n",
              "    }\n",
              "\n",
              "    .dataframe tbody tr th {\n",
              "        vertical-align: top;\n",
              "    }\n",
              "\n",
              "    .dataframe thead th {\n",
              "        text-align: right;\n",
              "    }\n",
              "</style>\n",
              "<table border=\"1\" class=\"dataframe\">\n",
              "  <thead>\n",
              "    <tr style=\"text-align: right;\">\n",
              "      <th></th>\n",
              "      <th>order_id</th>\n",
              "      <th>order_date</th>\n",
              "      <th>order_status</th>\n",
              "      <th>price</th>\n",
              "      <th>digital_product</th>\n",
              "      <th>customer_account_age</th>\n",
              "      <th>order_source</th>\n",
              "      <th>billing_zip</th>\n",
              "      <th>shipping_name_length</th>\n",
              "      <th>classification_score</th>\n",
              "    </tr>\n",
              "  </thead>\n",
              "  <tbody>\n",
              "    <tr>\n",
              "      <th>0</th>\n",
              "      <td>945827823</td>\n",
              "      <td>2019-06-28</td>\n",
              "      <td>approved</td>\n",
              "      <td>16.44</td>\n",
              "      <td>False</td>\n",
              "      <td>759</td>\n",
              "      <td>web</td>\n",
              "      <td>98109</td>\n",
              "      <td>9</td>\n",
              "      <td>1.000000</td>\n",
              "    </tr>\n",
              "    <tr>\n",
              "      <th>1</th>\n",
              "      <td>932303597</td>\n",
              "      <td>2019-06-18</td>\n",
              "      <td>approved</td>\n",
              "      <td>150.00</td>\n",
              "      <td>True</td>\n",
              "      <td>894</td>\n",
              "      <td>web</td>\n",
              "      <td>52761</td>\n",
              "      <td>0</td>\n",
              "      <td>0.999999</td>\n",
              "    </tr>\n",
              "    <tr>\n",
              "      <th>2</th>\n",
              "      <td>916501223</td>\n",
              "      <td>2019-06-07</td>\n",
              "      <td>approved</td>\n",
              "      <td>105.94</td>\n",
              "      <td>False</td>\n",
              "      <td>5160</td>\n",
              "      <td>web</td>\n",
              "      <td>60047</td>\n",
              "      <td>10</td>\n",
              "      <td>0.999999</td>\n",
              "    </tr>\n",
              "    <tr>\n",
              "      <th>3</th>\n",
              "      <td>916516038</td>\n",
              "      <td>2019-06-07</td>\n",
              "      <td>approved</td>\n",
              "      <td>100.00</td>\n",
              "      <td>True</td>\n",
              "      <td>1267</td>\n",
              "      <td>web</td>\n",
              "      <td>46516</td>\n",
              "      <td>0</td>\n",
              "      <td>0.999999</td>\n",
              "    </tr>\n",
              "    <tr>\n",
              "      <th>4</th>\n",
              "      <td>925554558</td>\n",
              "      <td>2019-06-13</td>\n",
              "      <td>approved</td>\n",
              "      <td>225.00</td>\n",
              "      <td>True</td>\n",
              "      <td>889</td>\n",
              "      <td>web</td>\n",
              "      <td>52761</td>\n",
              "      <td>0</td>\n",
              "      <td>0.999999</td>\n",
              "    </tr>\n",
              "  </tbody>\n",
              "</table>\n",
              "</div>"
            ],
            "text/plain": [
              "    order_id  order_date  ... shipping_name_length  classification_score\n",
              "0  945827823  2019-06-28  ...                    9              1.000000\n",
              "1  932303597  2019-06-18  ...                    0              0.999999\n",
              "2  916501223  2019-06-07  ...                   10              0.999999\n",
              "3  916516038  2019-06-07  ...                    0              0.999999\n",
              "4  925554558  2019-06-13  ...                    0              0.999999\n",
              "\n",
              "[5 rows x 10 columns]"
            ]
          },
          "metadata": {},
          "execution_count": 94
        }
      ]
    },
    {
      "cell_type": "markdown",
      "metadata": {
        "id": "z6m6GSOvz-j4"
      },
      "source": [
        "**1. Rely exclusively on model scores and set a decline threshold that will provide a 90% approval rate.**\n",
        "\n"
      ]
    },
    {
      "cell_type": "code",
      "metadata": {
        "colab": {
          "base_uri": "https://localhost:8080/"
        },
        "id": "3-4mOGgM_jQC",
        "outputId": "161a59db-5a84-43d4-cf42-150ee68a76be"
      },
      "source": [
        "threshold = df['classification_score'].quantile(0.1, interpolation='higher')\n",
        "print(threshold)"
      ],
      "execution_count": 95,
      "outputs": [
        {
          "output_type": "stream",
          "name": "stdout",
          "text": [
            "0.860857012\n"
          ]
        }
      ]
    },
    {
      "cell_type": "markdown",
      "metadata": {
        "id": "etxIDT3h1LlE"
      },
      "source": [
        " classification scores > 0.86 will provide a 90%\n",
        "approval rate "
      ]
    },
    {
      "cell_type": "markdown",
      "metadata": {
        "id": "1VmwgBu62oMD"
      },
      "source": [
        "**2. Plot the model scores distribution**"
      ]
    },
    {
      "cell_type": "code",
      "metadata": {
        "colab": {
          "base_uri": "https://localhost:8080/",
          "height": 295
        },
        "id": "5cWJb5KR1NPY",
        "outputId": "d17ce2c9-19b9-47f7-8f01-2e56c103fbe8"
      },
      "source": [
        "df = df.sort_values('classification_score')\n",
        "df['classification_score'].hist()\n",
        "plt.gca().set(title= 'Histogram of the distribution of model scores', ylabel='Frequency', xlabel= 'Model scores')\n",
        "plt.show()"
      ],
      "execution_count": 96,
      "outputs": [
        {
          "output_type": "display_data",
          "data": {
            "image/png": "[encoded data removed]",
            "text/plain": [
              "<Figure size 432x288 with 1 Axes>"
            ]
          },
          "metadata": {
            "needs_background": "light"
          }
        }
      ]
    },
    {
      "cell_type": "markdown",
      "metadata": {
        "id": "wBKlrS0W3GiY"
      },
      "source": [
        "\n",
        "Model scores distribution around threshold '1',\n",
        "this fits in with the logic because the dataset included only approvals and chargebacks."
      ]
    },
    {
      "cell_type": "markdown",
      "metadata": {
        "id": "BdWucF-73VcA"
      },
      "source": [
        "**3. Assuming we aim at a proportion of 50% between the CHB cost and the total revenue (sum amount of CHBs divided by the total revenue), what would have to be the fee?**"
      ]
    },
    {
      "cell_type": "code",
      "metadata": {
        "colab": {
          "base_uri": "https://localhost:8080/"
        },
        "id": "oMkLku2k27K8",
        "outputId": "05bcb591-d25e-4818-8883-b5a8f82ae99d"
      },
      "source": [
        "TABLE_CHB = df.loc[df['order_status'] == 'chargeback']\n",
        "CHB = sum(TABLE_CHB['price'])\n",
        "TABLE_total_price = df.loc[df['order_status'] != 'decline']\n",
        "total_price = sum(TABLE_total_price['price'])\n",
        "fee = CHB / (0.5* total_price)\n",
        "print(fee)"
      ],
      "execution_count": 97,
      "outputs": [
        {
          "output_type": "stream",
          "name": "stdout",
          "text": [
            "0.006015218197352008\n"
          ]
        }
      ]
    },
    {
      "cell_type": "markdown",
      "metadata": {
        "id": "wWzUmXUi3ohp"
      },
      "source": [
        "Assuming that the revenue model is a fee * price for approved and chargeback orders,\n",
        "The formula for calculating the required fee: sum(price(CHB))/ fee * sum(price(approved + chargeback)) = 0.5.\n",
        "To get this ratio the fee has to be 0.006.\n",
        "\n"
      ]
    },
    {
      "cell_type": "markdown",
      "metadata": {
        "id": "ooOsEE6J5ENz"
      },
      "source": [
        "**4. In the dataset, there’s a column indicating whether the purchased goods are digital or tangible. What can you say about the risk level of each segment?**"
      ]
    },
    {
      "cell_type": "code",
      "metadata": {
        "colab": {
          "base_uri": "https://localhost:8080/"
        },
        "id": "5QncCQ1-3pJ-",
        "outputId": "97a1b604-fea6-45c8-873b-e6bf54251709"
      },
      "source": [
        "pivot = df.pivot_table(index = ['digital_product', 'order_status'], \n",
        "                       values = 'order_id' , aggfunc ='count')\n",
        "pivot['% of Total'] = (pivot['order_id']/pivot['order_id'].sum())*100\n",
        "print (pivot)"
      ],
      "execution_count": 78,
      "outputs": [
        {
          "output_type": "stream",
          "name": "stdout",
          "text": [
            "                              order_id  % of Total\n",
            "digital_product order_status                      \n",
            "False           approved         13498   33.063074\n",
            "                chargeback          40    0.097979\n",
            "True            approved         26967   66.055113\n",
            "                chargeback         320    0.783833\n"
          ]
        }
      ]
    },
    {
      "cell_type": "markdown",
      "metadata": {
        "id": "N62nduDj40uj"
      },
      "source": [
        "\n",
        "Digital products have higher chargback than tangible products, also the fraud rate on the Digital products is higher than the fraud rate on tangible products."
      ]
    },
    {
      "cell_type": "markdown",
      "metadata": {
        "id": "MUSHM2dG5PYu"
      },
      "source": [
        "**5. Free exploration - Provide 2-3 interesting breakdowns or insights.**"
      ]
    },
    {
      "cell_type": "markdown",
      "metadata": {
        "id": "fbEuF0y45Yzj"
      },
      "source": [
        "**5-1:**"
      ]
    },
    {
      "cell_type": "code",
      "metadata": {
        "colab": {
          "base_uri": "https://localhost:8080/"
        },
        "id": "GZeBWKzF41tI",
        "outputId": "50a2fa53-b3a2-4836-9d71-161ef412b8c4"
      },
      "source": [
        "pivot_source = df.pivot_table(index = 'order_status', columns= 'order_source',\n",
        "                              values = 'order_id' ,aggfunc = 'count')\n",
        "pivot_source.loc['total', :] = pivot_source.sum().values      \n",
        "print(pivot_source)\n",
        "CHB_mobile_prec = (pivot_source.at['chargeback','mobile_app']/pivot_source.at['total','mobile_app'])*100\n",
        "print(\"% CHB from mobile app is:\", CBH_mobile_prec, \"%\")\n",
        "CHB_web_prec = (pivot_source.at['chargeback','web']/pivot_source.at['total','web'])*100\n",
        "print(\"% CHB from web is:\", CHB_web_prec, \"%\")"
      ],
      "execution_count": 79,
      "outputs": [
        {
          "output_type": "stream",
          "name": "stdout",
          "text": [
            "order_source  mobile_app      web\n",
            "order_status                     \n",
            "approved           663.0  39802.0\n",
            "chargeback          11.0    349.0\n",
            "total              674.0  40151.0\n",
            "% CHB from mobile app is: 1.6320474777448073 %\n",
            "% CHB from web is: 0.8692186994097283 %\n"
          ]
        }
      ]
    },
    {
      "cell_type": "markdown",
      "metadata": {
        "id": "GkBbtvon5sKF"
      },
      "source": [
        "The amount of orders from the web is higher than the mobile app, but the fraud rate in the mobile app is higher than the fraud rate in the web."
      ]
    },
    {
      "cell_type": "markdown",
      "metadata": {
        "id": "AL3EOXRs6CG4"
      },
      "source": [
        "**5-2:**"
      ]
    },
    {
      "cell_type": "code",
      "metadata": {
        "colab": {
          "base_uri": "https://localhost:8080/",
          "height": 313
        },
        "id": "_1jr3Cvo5m6l",
        "outputId": "56a53263-477e-45fe-dfda-cf0b0233cbba"
      },
      "source": [
        "df['order_date'] = pd.to_datetime(df['order_date'])\n",
        "order_day = df['order_date'].dt.day_name()\n",
        "cats = [ 'Sunday', 'Monday', 'Tuesday', 'Wednesday', 'Thursday', 'Friday', 'Saturday']\n",
        "order_day_group = order_day.groupby(order_day).count().reindex(cats)\n",
        "plt.plot(order_day_group)\n",
        "plt.xlabel('Day of week')\n",
        "plt.ylabel('Orders amount')\n",
        "plt.title(\"Orders per days\")"
      ],
      "execution_count": 80,
      "outputs": [
        {
          "output_type": "execute_result",
          "data": {
            "text/plain": [
              "Text(0.5, 1.0, 'Orders per days')"
            ]
          },
          "metadata": {},
          "execution_count": 80
        },
        {
          "output_type": "display_data",
          "data": {
            "image/png": "[encoded data removed]",
            "text/plain": [
              "<Figure size 432x288 with 1 Axes>"
            ]
          },
          "metadata": {
            "needs_background": "light"
          }
        }
      ]
    },
    {
      "cell_type": "markdown",
      "metadata": {
        "id": "hNHRoAJu55p1"
      },
      "source": [
        "The number of orders on Mondays is high and on Saturdays it is low compared to the rest of the week.#In order to raise the revenue model it is worth thinking about different purchase fees for the days of the week."
      ]
    }
  ]
}